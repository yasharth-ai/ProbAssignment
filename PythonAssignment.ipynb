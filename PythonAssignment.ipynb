{
 "cells": [
  {
   "cell_type": "code",
   "execution_count": null,
   "metadata": {},
   "outputs": [],
   "source": [
    "Questions on String"
   ]
  },
  {
   "cell_type": "code",
   "execution_count": 4,
   "metadata": {},
   "outputs": [
    {
     "name": "stdout",
     "output_type": "stream",
     "text": [
      "327\n",
      "63\n",
      "5.190476190476191\n"
     ]
    }
   ],
   "source": [
    "import re\n",
    "teststring = \" I am very keen in building up my career in Data Science, but not sure from where to start. If I search the web it throws me thousands of articles, few are relevant others make me confused, again I come around to the same page. Supervised has provided me a good platform to remove all such qualms which were wrangling in my mind\"\n",
    "total_len = len(teststring.strip())\n",
    "clean_teststring = re.sub(r'[^\\w\\s]','',teststring.strip())\n",
    "list_words = clean_teststring.split()\n",
    "total_wordscount = len(list_words)\n",
    "average_len = total_len / total_wordscount\n",
    "print(total_len)\n",
    "print(total_wordscount)\n",
    "print(average_len)"
   ]
  },
  {
   "cell_type": "code",
   "execution_count": 4,
   "metadata": {},
   "outputs": [
    {
     "data": {
      "text/plain": [
       "' i am very keen in building up my career in data science, but not sure from where to start. if i search the web it throws me thousands of articles, few are relevant others make me confused, again i come around to the same page. supervised has provided me a good platform to remove all such qualms which were wrangling in my mind'"
      ]
     },
     "execution_count": 4,
     "metadata": {},
     "output_type": "execute_result"
    }
   ],
   "source": [
    "teststring.lower()"
   ]
  },
  {
   "cell_type": "code",
   "execution_count": 9,
   "metadata": {},
   "outputs": [
    {
     "data": {
      "text/plain": [
       "' I am very keen in building up my career in Data Science but not sure from where to start If I search the web it throws me thousands of articles few are relevant others make me confused again I come around to the same page Supervised has provided me a good platform to remove all such qualms which were wrangling in my mind'"
      ]
     },
     "execution_count": 9,
     "metadata": {},
     "output_type": "execute_result"
    }
   ],
   "source": [
    "import re\n",
    "clean_teststring = re.sub(r'[^\\w\\s]','',teststring)\n",
    "clean_teststring"
   ]
  },
  {
   "cell_type": "code",
   "execution_count": 8,
   "metadata": {},
   "outputs": [
    {
     "data": {
      "text/plain": [
       "' I am very keen in building up my career in , but not sure from where to start. If I search the web it throws me thousands of articles, few are relevant others make me confused, again I come around to the same page. Supervised has provided me a good platform to remove all such qualms which were wrangling in my mind'"
      ]
     },
     "execution_count": 8,
     "metadata": {},
     "output_type": "execute_result"
    }
   ],
   "source": [
    "ds = \"Data Science\"\n",
    "new_teststring = teststring.replace(ds,\"\")\n",
    "new_teststring"
   ]
  },
  {
   "cell_type": "code",
   "execution_count": 6,
   "metadata": {},
   "outputs": [
    {
     "data": {
      "text/plain": [
       "{'I': 3,\n",
       " 'am': 1,\n",
       " 'very': 1,\n",
       " 'keen': 1,\n",
       " 'in': 3,\n",
       " 'building': 1,\n",
       " 'up': 1,\n",
       " 'my': 2,\n",
       " 'career': 1,\n",
       " 'Data': 1,\n",
       " 'Science': 1,\n",
       " 'but': 1,\n",
       " 'not': 1,\n",
       " 'sure': 1,\n",
       " 'from': 1,\n",
       " 'where': 1,\n",
       " 'to': 3,\n",
       " 'start': 1,\n",
       " 'If': 1,\n",
       " 'search': 1,\n",
       " 'the': 2,\n",
       " 'web': 1,\n",
       " 'it': 1,\n",
       " 'throws': 1,\n",
       " 'me': 3,\n",
       " 'thousands': 1,\n",
       " 'of': 1,\n",
       " 'articles': 1,\n",
       " 'few': 1,\n",
       " 'are': 1,\n",
       " 'relevant': 1,\n",
       " 'others': 1,\n",
       " 'make': 1,\n",
       " 'confused': 1,\n",
       " 'again': 1,\n",
       " 'come': 1,\n",
       " 'around': 1,\n",
       " 'same': 1,\n",
       " 'page': 1,\n",
       " 'Supervised': 1,\n",
       " 'has': 1,\n",
       " 'provided': 1,\n",
       " 'a': 1,\n",
       " 'good': 1,\n",
       " 'platform': 1,\n",
       " 'remove': 1,\n",
       " 'all': 1,\n",
       " 'such': 1,\n",
       " 'qualms': 1,\n",
       " 'which': 1,\n",
       " 'were': 1,\n",
       " 'wrangling': 1,\n",
       " 'mind': 1}"
      ]
     },
     "execution_count": 6,
     "metadata": {},
     "output_type": "execute_result"
    }
   ],
   "source": [
    "list_clean_teststring = clean_teststring.split()\n",
    "sample_dict = {}\n",
    "for word in list_clean_teststring:\n",
    "    if word in sample_dict :\n",
    "        counter = sample_dict[word]\n",
    "        counter = counter + 1\n",
    "        sample_dict[word] = counter\n",
    "    else:\n",
    "        sample_dict[word] = 1\n",
    "sample_dict"
   ]
  },
  {
   "cell_type": "code",
   "execution_count": 8,
   "metadata": {},
   "outputs": [
    {
     "data": {
      "text/plain": [
       "{'I': 3, 'in': 3, 'my': 2, 'to': 3, 'the': 2, 'me': 3}"
      ]
     },
     "execution_count": 8,
     "metadata": {},
     "output_type": "execute_result"
    }
   ],
   "source": [
    "#Not able to understand question - - \"6.   Fetch the duplicate pairs used in the string\".\n",
    "D = { key:value for (key,value) in sample_dict.items() if value > 1 }\n",
    "D"
   ]
  },
  {
   "cell_type": "code",
   "execution_count": 17,
   "metadata": {},
   "outputs": [
    {
     "data": {
      "text/plain": [
       "' I am very keen in building up my career in Data Science, but not sure from where to start. If I search the web it throws me thousands of articles, few are relevant others make me confused, again I come around to the same page. Unsupervised has provided me a good platform to remove all such qualms which were wrangling in my mind'"
      ]
     },
     "execution_count": 17,
     "metadata": {},
     "output_type": "execute_result"
    }
   ],
   "source": [
    "new_teststring1 = teststring.replace(\"Supervised\",\"Unsupervised\")\n",
    "new_teststring1"
   ]
  },
  {
   "cell_type": "code",
   "execution_count": 18,
   "metadata": {},
   "outputs": [
    {
     "data": {
      "text/plain": [
       "[' I am very keen in building up my career in Data Science, but not sure from where to start',\n",
       " ' If I search the web it throws me thousands of articles, few are relevant others make me confused, again I come around to the same page',\n",
       " ' Supervised has provided me a good platform to remove all such qualms which were wrangling in my mind']"
      ]
     },
     "execution_count": 18,
     "metadata": {},
     "output_type": "execute_result"
    }
   ],
   "source": [
    "dot_list = teststring.split(\".\")\n",
    "dot_list"
   ]
  },
  {
   "cell_type": "code",
   "execution_count": 20,
   "metadata": {},
   "outputs": [
    {
     "data": {
      "text/plain": [
       "{'Science': 1,\n",
       " 'sure': 1,\n",
       " 'where': 1,\n",
       " 'the': 1,\n",
       " 'me': 1,\n",
       " 'are': 1,\n",
       " 'make': 1,\n",
       " 'come': 1,\n",
       " 'same': 1,\n",
       " 'page': 1,\n",
       " 'remove': 1,\n",
       " 'were': 1}"
      ]
     },
     "execution_count": 20,
     "metadata": {},
     "output_type": "execute_result"
    }
   ],
   "source": [
    "list_words = sample_dict.keys()\n",
    "sample_dict1 = {}\n",
    "for word in list_words:\n",
    "    if word[(len(word)-1)] == 'e':\n",
    "       if word not in sample_dict1:\n",
    "         sample_dict1[word] = 1\n",
    "sample_dict1        "
   ]
  },
  {
   "cell_type": "code",
   "execution_count": 22,
   "metadata": {},
   "outputs": [
    {
     "data": {
      "text/plain": [
       "1"
      ]
     },
     "execution_count": 22,
     "metadata": {},
     "output_type": "execute_result"
    }
   ],
   "source": [
    "a_counter = sample_dict['a']\n",
    "a_counter"
   ]
  },
  {
   "cell_type": "code",
   "execution_count": null,
   "metadata": {},
   "outputs": [],
   "source": [
    "Questions on Dictionary"
   ]
  },
  {
   "cell_type": "code",
   "execution_count": 24,
   "metadata": {},
   "outputs": [
    {
     "data": {
      "text/plain": [
       "{'apples': 0.25, 'sugar': 0.5, 'rice': 2.5, 'milk ': 2.5, 'egg ': 1}"
      ]
     },
     "execution_count": 24,
     "metadata": {},
     "output_type": "execute_result"
    }
   ],
   "source": [
    "items_dict = {'apples': 0.250, 'sugar': 0.500, 'rice': 2.5, 'milk ': 2.5, 'egg ': 1 }\n",
    "items_dict"
   ]
  },
  {
   "cell_type": "code",
   "execution_count": 25,
   "metadata": {},
   "outputs": [
    {
     "data": {
      "text/plain": [
       "{'apples': 0.25, 'sugar': 0.5, 'rice': 2.5, 'milk ': 2.5, 'egg ': 1, 'atta': 1}"
      ]
     },
     "execution_count": 25,
     "metadata": {},
     "output_type": "execute_result"
    }
   ],
   "source": [
    "items_dict['atta'] = 1\n",
    "items_dict"
   ]
  },
  {
   "cell_type": "code",
   "execution_count": 26,
   "metadata": {},
   "outputs": [
    {
     "data": {
      "text/plain": [
       "{'apples': 0.25, 'sugar': 0.5, 'rice': 1, 'milk ': 2.5, 'egg ': 1, 'atta': 1}"
      ]
     },
     "execution_count": 26,
     "metadata": {},
     "output_type": "execute_result"
    }
   ],
   "source": [
    "items_dict['rice'] = 1\n",
    "items_dict"
   ]
  },
  {
   "cell_type": "code",
   "execution_count": 27,
   "metadata": {},
   "outputs": [
    {
     "data": {
      "text/plain": [
       "{'apples': 0.25, 'sugar': 0.5, 'rice': 1, 'milk ': 2.5, 'egg ': 1, 'atta': 1}"
      ]
     },
     "execution_count": 27,
     "metadata": {},
     "output_type": "execute_result"
    }
   ],
   "source": [
    "items_newdict = { key:value for (key,value) in items_dict.items() }\n",
    "items_newdict"
   ]
  },
  {
   "cell_type": "code",
   "execution_count": 29,
   "metadata": {},
   "outputs": [
    {
     "data": {
      "text/plain": [
       "{'apples': 220, 'sugar': 43, 'rice': 45, 'milk ': 30, 'egg ': 60}"
      ]
     },
     "execution_count": 29,
     "metadata": {},
     "output_type": "execute_result"
    }
   ],
   "source": [
    "price_dict = {'apples': 220, 'sugar': 43, 'rice': 45, 'milk ': 30, 'egg ': 60}\n",
    "price_dict "
   ]
  },
  {
   "cell_type": "code",
   "execution_count": 30,
   "metadata": {},
   "outputs": [
    {
     "data": {
      "text/plain": [
       "{'apples': 55.0, 'sugar': 21.5, 'rice': 112.5, 'milk ': 75.0, 'egg ': 60}"
      ]
     },
     "execution_count": 30,
     "metadata": {},
     "output_type": "execute_result"
    }
   ],
   "source": [
    "items_dict = {'apples': 0.250, 'sugar': 0.500, 'rice': 2.5, 'milk ': 2.5, 'egg ': 1 }\n",
    "Cost_dict = {key: value * value1  for (key,value) in items_dict.items() for (key1,value1) in price_dict.items() if key == key1}\n",
    "Cost_dict"
   ]
  },
  {
   "cell_type": "code",
   "execution_count": null,
   "metadata": {},
   "outputs": [],
   "source": [
    "Questions on List"
   ]
  },
  {
   "cell_type": "code",
   "execution_count": 35,
   "metadata": {},
   "outputs": [
    {
     "data": {
      "text/plain": [
       "['Amazon',\n",
       " 'Apple',\n",
       " 'Facebook',\n",
       " 'Google',\n",
       " 'HiSilicon',\n",
       " 'Microsoft',\n",
       " 'SenseTime']"
      ]
     },
     "execution_count": 35,
     "metadata": {},
     "output_type": "execute_result"
    }
   ],
   "source": [
    "AI_Companies = ['Amazon', 'Facebook', 'HiSilicon', 'Google', 'Apple', 'Microsoft', 'SenseTime']\n",
    "AI_Companies.sort()\n",
    "AI_Companies"
   ]
  },
  {
   "cell_type": "code",
   "execution_count": 37,
   "metadata": {},
   "outputs": [
    {
     "data": {
      "text/plain": [
       "['Amazon',\n",
       " 'Apple',\n",
       " 'Facebook',\n",
       " 'Google',\n",
       " 'HiSilicon',\n",
       " 'Microsoft',\n",
       " 'SenseTime',\n",
       " 'Nvidia',\n",
       " 'OpenAI',\n",
       " 'Qualcomm',\n",
       " 'Reliance']"
      ]
     },
     "execution_count": 37,
     "metadata": {},
     "output_type": "execute_result"
    }
   ],
   "source": [
    "AI_Companies.extend(['Nvidia', 'OpenAI' , 'Qualcomm' , 'Reliance'])\n",
    "AI_Companies"
   ]
  },
  {
   "cell_type": "code",
   "execution_count": 38,
   "metadata": {},
   "outputs": [
    {
     "data": {
      "text/plain": [
       "['amazon',\n",
       " 'apple',\n",
       " 'facebook',\n",
       " 'google',\n",
       " 'hisilicon',\n",
       " 'microsoft',\n",
       " 'sensetime',\n",
       " 'nvidia',\n",
       " 'openai',\n",
       " 'qualcomm',\n",
       " 'reliance']"
      ]
     },
     "execution_count": 38,
     "metadata": {},
     "output_type": "execute_result"
    }
   ],
   "source": [
    "AI_Companies_lower = [items.lower() for items in AI_Companies]\n",
    "AI_Companies_lower"
   ]
  },
  {
   "cell_type": "code",
   "execution_count": 40,
   "metadata": {},
   "outputs": [
    {
     "data": {
      "text/plain": [
       "['Amazon',\n",
       " 'Apple',\n",
       " 'Facebook',\n",
       " 'Google',\n",
       " 'HiSilicon',\n",
       " 'Microsoft',\n",
       " 'SenseTime',\n",
       " 'Nvidia',\n",
       " 'OpenAI',\n",
       " 'Qualcomm']"
      ]
     },
     "execution_count": 40,
     "metadata": {},
     "output_type": "execute_result"
    }
   ],
   "source": [
    "AI_Companies.remove('Reliance')\n",
    "AI_Companies"
   ]
  },
  {
   "cell_type": "code",
   "execution_count": 41,
   "metadata": {},
   "outputs": [
    {
     "data": {
      "text/plain": [
       "['Amazon',\n",
       " 'Apple',\n",
       " 'Facebook',\n",
       " 'Google',\n",
       " 'HiSilicon',\n",
       " 'Microsoft',\n",
       " 'Nvidia',\n",
       " 'OpenAI',\n",
       " 'Qualcomm',\n",
       " 'SenseTime']"
      ]
     },
     "execution_count": 41,
     "metadata": {},
     "output_type": "execute_result"
    }
   ],
   "source": [
    "AI_Companies.sort()\n",
    "AI_Companies"
   ]
  },
  {
   "cell_type": "code",
   "execution_count": 47,
   "metadata": {},
   "outputs": [
    {
     "data": {
      "text/plain": [
       "['Amazon', 'Apple', 'HiSilicon', 'Nvidia', 'OpenAI', 'Qualcomm', 'SenseTime']"
      ]
     },
     "execution_count": 47,
     "metadata": {},
     "output_type": "execute_result"
    }
   ],
   "source": [
    "AI_Companies_list = [items for items in AI_Companies if items not in ['Facebook','Google', 'Microsoft']]\n",
    "AI_Companies_list"
   ]
  },
  {
   "cell_type": "code",
   "execution_count": null,
   "metadata": {},
   "outputs": [],
   "source": [
    "Questions on Tuple"
   ]
  },
  {
   "cell_type": "code",
   "execution_count": 48,
   "metadata": {},
   "outputs": [
    {
     "data": {
      "text/plain": [
       "(220, 43, 45, 30, 60)"
      ]
     },
     "execution_count": 48,
     "metadata": {},
     "output_type": "execute_result"
    }
   ],
   "source": [
    "price_tuple = (220,  43,  45, 30,  60)\n",
    "price_tuple"
   ]
  },
  {
   "cell_type": "code",
   "execution_count": 49,
   "metadata": {},
   "outputs": [
    {
     "name": "stdout",
     "output_type": "stream",
     "text": [
      "30\n",
      "220\n"
     ]
    }
   ],
   "source": [
    "print(min(price_tuple))\n",
    "print(max(price_tuple))"
   ]
  },
  {
   "cell_type": "code",
   "execution_count": 51,
   "metadata": {},
   "outputs": [
    {
     "data": {
      "text/plain": [
       "('Amazon',\n",
       " 'Facebook',\n",
       " 'HiSilicon',\n",
       " 'Google',\n",
       " 'Apple',\n",
       " 'Microsoft',\n",
       " 'SenseTime')"
      ]
     },
     "execution_count": 51,
     "metadata": {},
     "output_type": "execute_result"
    }
   ],
   "source": [
    "AI_Companies = ['Amazon', 'Facebook', 'HiSilicon', 'Google', 'Apple', 'Microsoft', 'SenseTime']\n",
    "company_tuple = tuple(AI_Companies)\n",
    "company_tuple"
   ]
  },
  {
   "cell_type": "code",
   "execution_count": 52,
   "metadata": {},
   "outputs": [
    {
     "data": {
      "text/plain": [
       "(220,\n",
       " 43,\n",
       " 45,\n",
       " 30,\n",
       " 60,\n",
       " 'Amazon',\n",
       " 'Facebook',\n",
       " 'HiSilicon',\n",
       " 'Google',\n",
       " 'Apple',\n",
       " 'Microsoft',\n",
       " 'SenseTime')"
      ]
     },
     "execution_count": 52,
     "metadata": {},
     "output_type": "execute_result"
    }
   ],
   "source": [
    "combine_tuple = price_tuple + company_tuple\n",
    "combine_tuple"
   ]
  },
  {
   "cell_type": "code",
   "execution_count": 61,
   "metadata": {},
   "outputs": [
    {
     "name": "stdout",
     "output_type": "stream",
     "text": [
      "Price tuple length - 5\n",
      "Company tuple length - 7\n",
      "Company tuple longer\n"
     ]
    }
   ],
   "source": [
    "price_len = len(price_tuple)\n",
    "company_len = len(company_tuple)\n",
    "print('Price tuple length - ' + str(price_len))\n",
    "print('Company tuple length - ' + str(company_len))\n",
    "if(price_len > company_len):\n",
    "    print('Price tuple longer') \n",
    "else:\n",
    "     print('Company tuple longer')   "
   ]
  },
  {
   "cell_type": "code",
   "execution_count": null,
   "metadata": {},
   "outputs": [],
   "source": []
  }
 ],
 "metadata": {
  "kernelspec": {
   "display_name": "Python 3",
   "language": "python",
   "name": "python3"
  },
  "language_info": {
   "codemirror_mode": {
    "name": "ipython",
    "version": 3
   },
   "file_extension": ".py",
   "mimetype": "text/x-python",
   "name": "python",
   "nbconvert_exporter": "python",
   "pygments_lexer": "ipython3",
   "version": "3.7.3"
  }
 },
 "nbformat": 4,
 "nbformat_minor": 2
}
